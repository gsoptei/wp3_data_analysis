{
 "cells": [
  {
   "cell_type": "code",
   "execution_count": null,
   "id": "2af834f6",
   "metadata": {},
   "outputs": [],
   "source": [
    "import os\n",
    "import pandas as pd # for data cleaning and manipulation\n",
    "import numpy as np # for data cleaning and manipulation\n",
    "import googlemaps # for distance matrix API\n",
    "import geopandas as gpd # for spatial analysis\n",
    "from shapely import wkt, wkb\n",
    "\n",
    "import subprocess # for ORSM\n",
    "import json # for ORSM\n",
    "import random # for ORSM\n",
    "\n",
    "from pyspark.sql import SparkSession # for Apache Spark\n",
    "from sedona.spark import * # for Apache Sedona\n",
    "from sedona.register import SedonaRegistrator # for Apache Sedona\n",
    "from sedona.utils import SedonaKryoRegistrator, KryoSerializer # for Apache Sedona"
   ]
  },
  {
   "cell_type": "markdown",
   "id": "2943ba69",
   "metadata": {},
   "source": [
    "# Data Cleaning - Datasets A, B1 and B2"
   ]
  },
  {
   "cell_type": "code",
   "execution_count": 2,
   "id": "3e9a07f8-d0f4-4ac8-bcf0-35fd9ac75410",
   "metadata": {},
   "outputs": [],
   "source": [
    "def list_excel_files(directory='.'):\n",
    "    files = []\n",
    "    for i,j,k in os.walk(directory):\n",
    "        for file in k:\n",
    "            if file.endswith('.xlsx'):\n",
    "                files.append(file)\n",
    "    return files"
   ]
  },
  {
   "cell_type": "code",
   "execution_count": 3,
   "id": "fb0ce3fa-89c7-41ca-961e-97d31db4ce7c",
   "metadata": {},
   "outputs": [],
   "source": [
    "files = list_excel_files()"
   ]
  },
  {
   "cell_type": "code",
   "execution_count": 4,
   "id": "4af43fcf-f121-4891-93d7-7715b01c483e",
   "metadata": {},
   "outputs": [],
   "source": [
    "def create_dataframe(file_list, prefix):\n",
    "    df = pd.concat(pd.read_excel(file, parse_dates=False) for file in file_list if prefix in file)\n",
    "    return df"
   ]
  },
  {
   "cell_type": "code",
   "execution_count": 5,
   "id": "cb431399-76a8-4fa2-8b39-0390c4827fda",
   "metadata": {},
   "outputs": [],
   "source": [
    "matos = create_dataframe(files, 'matos')"
   ]
  },
  {
   "cell_type": "code",
   "execution_count": 6,
   "id": "08c6a156-7bdd-41f4-8da4-0955dd2946b3",
   "metadata": {},
   "outputs": [],
   "source": [
    "matos_ec = matos[(matos['species'] == 'Ec') & (matos['year'] == 2026)]"
   ]
  },
  {
   "cell_type": "code",
   "execution_count": 7,
   "id": "333690a7-8f5b-46a3-8c2e-56ec0a6c9eaf",
   "metadata": {},
   "outputs": [],
   "source": [
    "sim = create_dataframe(files, 'sim')"
   ]
  },
  {
   "cell_type": "code",
   "execution_count": 8,
   "id": "2f88d090-3653-4a81-9f39-515278628da4",
   "metadata": {},
   "outputs": [],
   "source": [
    "sim_ec = sim[(sim['species'] == 'Ec') & (sim['Year'] == 2026)]"
   ]
  },
  {
   "cell_type": "code",
   "execution_count": 9,
   "id": "b8fff793-d807-49d5-9a9f-74ba7fffffd5",
   "metadata": {},
   "outputs": [
    {
     "name": "stderr",
     "output_type": "stream",
     "text": [
      "/tmp/ipykernel_1960/722918832.py:1: SettingWithCopyWarning: \n",
      "A value is trying to be set on a copy of a slice from a DataFrame\n",
      "\n",
      "See the caveats in the documentation: https://pandas.pydata.org/pandas-docs/stable/user_guide/indexing.html#returning-a-view-versus-a-copy\n",
      "  matos_ec.rename(columns={'id_stand': 'UG'}, inplace=True)\n"
     ]
    }
   ],
   "source": [
    "matos_ec.rename(columns={'id_stand': 'UG'}, inplace=True)"
   ]
  },
  {
   "cell_type": "code",
   "execution_count": 10,
   "id": "9298ed6f-d5ea-480f-93dd-a3297bfd1834",
   "metadata": {},
   "outputs": [],
   "source": [
    "merged_df = pd.merge(matos_ec, sim_ec, on='UG', how='outer')"
   ]
  },
  {
   "cell_type": "code",
   "execution_count": 13,
   "id": "cbffc5d4-46ae-423e-be97-e4f983e1c78d",
   "metadata": {},
   "outputs": [],
   "source": [
    "columns = ['UG','id_presc','t_x','v_thin','v_harv','si','fmm_x','avgdbh','g','resp','pburn','psd','pd','r','costshrremha','costswithshrubsremoval','fmm_y','areafmm_y','Area','Presc','Year','Ttotal','t_y','Rot','Nst','N','Ndead','V','Vserr','Vrol','Vres','Vthin','VHarv']"
   ]
  },
  {
   "cell_type": "code",
   "execution_count": 14,
   "id": "9f2bcf05-3eca-4308-b697-54b099179889",
   "metadata": {},
   "outputs": [],
   "source": [
    "df = merged_df[columns]"
   ]
  },
  {
   "cell_type": "code",
   "execution_count": 16,
   "id": "4c38b7d0",
   "metadata": {},
   "outputs": [],
   "source": [
    "b2 = df"
   ]
  },
  {
   "cell_type": "code",
   "execution_count": 17,
   "id": "a231f26c",
   "metadata": {},
   "outputs": [],
   "source": [
    "b2_worst = b2.loc[b2.groupby('UG')['pburn'].idxmax()]"
   ]
  },
  {
   "cell_type": "code",
   "execution_count": 19,
   "id": "82c6beaa",
   "metadata": {},
   "outputs": [],
   "source": [
    "b2_best = b2.loc[b2.groupby('UG')['pburn'].idxmin()]"
   ]
  },
  {
   "cell_type": "code",
   "execution_count": 14,
   "id": "30e916ef",
   "metadata": {},
   "outputs": [],
   "source": [
    "df = df.astype(str)"
   ]
  },
  {
   "cell_type": "code",
   "execution_count": 15,
   "id": "5902f696",
   "metadata": {},
   "outputs": [],
   "source": [
    "df.to_parquet('data_0922.parquet')"
   ]
  },
  {
   "cell_type": "markdown",
   "id": "622dc79e",
   "metadata": {},
   "source": [
    "# PySpark"
   ]
  },
  {
   "cell_type": "markdown",
   "id": "71bd1f7c",
   "metadata": {},
   "source": [
    "https://www.bing.com/search?q=setting+up+apache+sedona+locally&cvid=7ed5cf284536482f932e02c1c1e9574e&gs_lcrp=EgRlZGdlKgYIABBFGDkyBggAEEUYOTIGCAEQABhAMgYIAhAAGEAyBggDEAAYQDIGCAQQABhAMgYIBRAAGEAyBggGEAAYQDIGCAcQABhAMgYICBAAGEDSAQg1MzIzajBqOagCCLACAQ&FORM=ANAB01&PC=U531"
   ]
  },
  {
   "cell_type": "code",
   "execution_count": 10,
   "id": "80b335c4",
   "metadata": {},
   "outputs": [],
   "source": [
    "# os.environ['JAVA_OPTS'] = \"-Xmx8G\"\n",
    "# os.environ['PYSPARK_PYTHON'] = sys.executable\n",
    "# os.environ['PYSPARK_DRIVER_PYTHON'] = sys.executable"
   ]
  },
  {
   "cell_type": "code",
   "execution_count": 15,
   "id": "cc371071",
   "metadata": {},
   "outputs": [
    {
     "name": "stderr",
     "output_type": "stream",
     "text": [
      "Picked up _JAVA_OPTIONS: -Xms4g -Xmx8g\n",
      "Picked up _JAVA_OPTIONS: -Xms4g -Xmx8g\n",
      "25/09/29 14:14:49 WARN Utils: Your hostname, FW-Server resolves to a loopback address: 127.0.1.1; using 172.18.62.20 instead (on interface eth0)\n",
      "25/09/29 14:14:49 WARN Utils: Set SPARK_LOCAL_IP if you need to bind to another address\n",
      "https://artifacts.unidata.ucar.edu/repository/unidata-all added as a remote repository with the name: repo-1\n",
      "Ivy Default Cache set to: /home/gergely_soptei/.ivy2/cache\n",
      "The jars for the packages stored in: /home/gergely_soptei/.ivy2/jars\n",
      "org.apache.sedona#sedona-spark-3.3_2.12 added as a dependency\n",
      "org.datasyslab#geotools-wrapper added as a dependency\n",
      ":: resolving dependencies :: org.apache.spark#spark-submit-parent-b59923ad-5b6e-4e4a-a942-3f8e252a4ebf;1.0\n",
      "\tconfs: [default]\n"
     ]
    },
    {
     "name": "stdout",
     "output_type": "stream",
     "text": [
      ":: loading settings :: url = jar:file:/home/gergely_soptei/spark-3.4.1-bin-hadoop3/jars/ivy-2.5.1.jar!/org/apache/ivy/core/settings/ivysettings.xml\n"
     ]
    },
    {
     "name": "stderr",
     "output_type": "stream",
     "text": [
      "\tfound org.apache.sedona#sedona-spark-3.3_2.12;1.7.2 in central\n",
      "\tfound org.apache.sedona#sedona-common;1.7.2 in central\n",
      "\tfound org.apache.commons#commons-math3;3.6.1 in central\n",
      "\tfound org.locationtech.jts#jts-core;1.20.0 in central\n",
      "\tfound org.wololo#jts2geojson;0.16.1 in central\n",
      "\tfound org.locationtech.spatial4j#spatial4j;0.8 in central\n",
      "\tfound com.google.geometry#s2-geometry;2.0.0 in central\n",
      "\tfound com.google.guava#guava;25.1-jre in central\n",
      "\tfound com.google.code.findbugs#jsr305;3.0.2 in central\n",
      "\tfound org.checkerframework#checker-qual;2.0.0 in central\n",
      "\tfound com.google.errorprone#error_prone_annotations;2.1.3 in central\n",
      "\tfound com.google.j2objc#j2objc-annotations;1.1 in central\n",
      "\tfound org.codehaus.mojo#animal-sniffer-annotations;1.14 in central\n",
      "\tfound com.uber#h3;4.1.1 in central\n",
      "\tfound net.sf.geographiclib#GeographicLib-Java;1.52 in central\n",
      "\tfound com.github.ben-manes.caffeine#caffeine;2.9.2 in central\n",
      "\tfound org.checkerframework#checker-qual;3.10.0 in central\n",
      "\tfound com.google.errorprone#error_prone_annotations;2.5.1 in central\n",
      "\tfound org.apache.sedona#sedona-spark-common-3.3_2.12;1.7.2 in central\n",
      "\tfound org.apache.sedona#shade-proto;1.7.2 in central\n",
      "\tfound org.xerial#sqlite-jdbc;3.41.2.2 in central\n",
      "\tfound commons-lang#commons-lang;2.6 in central\n",
      "\tfound graphframes#graphframes;0.8.3-spark3.4-s_2.12 in spark-packages\n",
      "\tfound org.slf4j#slf4j-api;1.7.36 in central\n",
      "\tfound org.scala-lang.modules#scala-collection-compat_2.12;2.5.0 in central\n",
      "\tfound org.beryx#awt-color-factory;1.0.0 in central\n",
      "\tfound org.datasyslab#geotools-wrapper;1.7.2-28.5 in central\n",
      ":: resolution report :: resolve 816ms :: artifacts dl 56ms\n",
      "\t:: modules in use:\n",
      "\tcom.github.ben-manes.caffeine#caffeine;2.9.2 from central in [default]\n",
      "\tcom.google.code.findbugs#jsr305;3.0.2 from central in [default]\n",
      "\tcom.google.errorprone#error_prone_annotations;2.5.1 from central in [default]\n",
      "\tcom.google.geometry#s2-geometry;2.0.0 from central in [default]\n",
      "\tcom.google.guava#guava;25.1-jre from central in [default]\n",
      "\tcom.google.j2objc#j2objc-annotations;1.1 from central in [default]\n",
      "\tcom.uber#h3;4.1.1 from central in [default]\n",
      "\tcommons-lang#commons-lang;2.6 from central in [default]\n",
      "\tgraphframes#graphframes;0.8.3-spark3.4-s_2.12 from spark-packages in [default]\n",
      "\tnet.sf.geographiclib#GeographicLib-Java;1.52 from central in [default]\n",
      "\torg.apache.commons#commons-math3;3.6.1 from central in [default]\n",
      "\torg.apache.sedona#sedona-common;1.7.2 from central in [default]\n",
      "\torg.apache.sedona#sedona-spark-3.3_2.12;1.7.2 from central in [default]\n",
      "\torg.apache.sedona#sedona-spark-common-3.3_2.12;1.7.2 from central in [default]\n",
      "\torg.apache.sedona#shade-proto;1.7.2 from central in [default]\n",
      "\torg.beryx#awt-color-factory;1.0.0 from central in [default]\n",
      "\torg.checkerframework#checker-qual;3.10.0 from central in [default]\n",
      "\torg.codehaus.mojo#animal-sniffer-annotations;1.14 from central in [default]\n",
      "\torg.datasyslab#geotools-wrapper;1.7.2-28.5 from central in [default]\n",
      "\torg.locationtech.jts#jts-core;1.20.0 from central in [default]\n",
      "\torg.locationtech.spatial4j#spatial4j;0.8 from central in [default]\n",
      "\torg.scala-lang.modules#scala-collection-compat_2.12;2.5.0 from central in [default]\n",
      "\torg.slf4j#slf4j-api;1.7.36 from central in [default]\n",
      "\torg.wololo#jts2geojson;0.16.1 from central in [default]\n",
      "\torg.xerial#sqlite-jdbc;3.41.2.2 from central in [default]\n",
      "\t:: evicted modules:\n",
      "\torg.checkerframework#checker-qual;2.0.0 by [org.checkerframework#checker-qual;3.10.0] in [default]\n",
      "\tcom.google.errorprone#error_prone_annotations;2.1.3 by [com.google.errorprone#error_prone_annotations;2.5.1] in [default]\n",
      "\t---------------------------------------------------------------------\n",
      "\t|                  |            modules            ||   artifacts   |\n",
      "\t|       conf       | number| search|dwnlded|evicted|| number|dwnlded|\n",
      "\t---------------------------------------------------------------------\n",
      "\t|      default     |   27  |   0   |   0   |   2   ||   25  |   0   |\n",
      "\t---------------------------------------------------------------------\n",
      ":: retrieving :: org.apache.spark#spark-submit-parent-b59923ad-5b6e-4e4a-a942-3f8e252a4ebf\n",
      "\tconfs: [default]\n",
      "\t0 artifacts copied, 25 already retrieved (0kB/16ms)\n",
      "25/09/29 14:14:51 WARN NativeCodeLoader: Unable to load native-hadoop library for your platform... using builtin-java classes where applicable\n",
      "Setting default log level to \"WARN\".\n",
      "To adjust logging level use sc.setLogLevel(newLevel). For SparkR, use setLogLevel(newLevel).\n",
      "                                                                                \r"
     ]
    }
   ],
   "source": [
    "config = (\n",
    "    SedonaContext.builder()\n",
    "    .config(\n",
    "        \"spark.jars.packages\",\n",
    "        \"org.apache.sedona:sedona-spark-3.3_2.12:1.7.2,\"\n",
    "        \"org.datasyslab:geotools-wrapper:1.7.2-28.5\",\n",
    "    )\n",
    "    .config(\n",
    "        \"spark.jars.repositories\",\n",
    "        \"https://artifacts.unidata.ucar.edu/repository/unidata-all\",\n",
    "    )\n",
    "    .getOrCreate()\n",
    ")\n",
    "sedona = SedonaContext.create(config)"
   ]
  },
  {
   "cell_type": "code",
   "execution_count": 16,
   "id": "e7f769ec",
   "metadata": {},
   "outputs": [
    {
     "name": "stderr",
     "output_type": "stream",
     "text": [
      "25/09/29 14:15:11 WARN SparkSession: Using an existing Spark session; only runtime SQL configurations will take effect.\n"
     ]
    }
   ],
   "source": [
    "spark = SparkSession.builder \\\n",
    "    .appName(\"Large DF\") \\\n",
    "    .config(\"spark.driver.memory\", \"6g\") \\\n",
    "    .config(\"spark.executor.memory\", \"6g\") \\\n",
    "    .config(\"spark.sql.shuffle.partitions\", \"8\") \\\n",
    "    .config(\"spark.driver.maxResultSize\", \"8g\") \\\n",
    "    .config(\"spark.serializer\", KryoSerializer.getName) \\\n",
    "    .config(\"spark.kryo.registrator\", SedonaKryoRegistrator.getName) \\\n",
    "    .config(\"spark.jars.packages\", \",\".join([\n",
    "        \"org.apache.sedona:sedona-python-adapter-3.4_2.12:1.5.1\",\n",
    "        \"org.datasyslab:geotools-wrapper:1.1.0-25.2\"\n",
    "    ])) \\\n",
    "    .getOrCreate()"
   ]
  },
  {
   "cell_type": "code",
   "execution_count": 17,
   "id": "1d658903",
   "metadata": {},
   "outputs": [],
   "source": [
    "spark.conf.set(\"spark.sql.execution.arrow.pyspark.enabled\", \"true\")"
   ]
  },
  {
   "cell_type": "code",
   "execution_count": 26,
   "id": "13a5d1e7-20a3-43e3-ade4-1c48fd565d9c",
   "metadata": {},
   "outputs": [
    {
     "name": "stderr",
     "output_type": "stream",
     "text": [
      "                                                                                \r"
     ]
    }
   ],
   "source": [
    "from_parquet = spark.read.parquet(\"data_0922.parquet\")"
   ]
  },
  {
   "cell_type": "code",
   "execution_count": 27,
   "id": "71896a64-fa47-491e-9215-24295d5d104a",
   "metadata": {},
   "outputs": [
    {
     "name": "stderr",
     "output_type": "stream",
     "text": [
      "25/09/29 09:41:39 WARN package: Truncated the string representation of a plan since it was too large. This behavior can be adjusted by setting 'spark.sql.debug.maxToStringFields'.\n",
      "                                                                                \r"
     ]
    },
    {
     "name": "stdout",
     "output_type": "stream",
     "text": [
      "+---+--------+---+------+------+---+-----+-------------------+-------------------+----+-----------+-----------+-----------+-----------+------------+----------------------+-----+---------+-----+-----+----+------+---+---+-----+-----+-----+-------+-----+----+----+-----+-----+\n",
      "| UG|id_presc|t_x|v_thin|v_harv| si|fmm_x|             avgdbh|                  g|resp|      pburn|        psd|         pd|          r|costshrremha|costswithshrubsremoval|fmm_y|areafmm_y| Area|Presc|Year|Ttotal|t_y|Rot|  Nst|    N|Ndead|      V|Vserr|Vrol|Vres|Vthin|VHarv|\n",
      "+---+--------+---+------+------+---+-----+-------------------+-------------------+----+-----------+-----------+-----------+-----------+------------+----------------------+-----+---------+-----+-----+----+------+---+---+-----+-----+-----+-------+-----+----+----+-----+-----+\n",
      "|  6|      92| 14|   0.0|     0|  4|  4.0|               16.4|2025-07-06 00:00:00|   0|0.009169859|0.244768815|0.815668491|0.998169236|         250|                   0.0|  4.0|    11.32|11.32|   21|2026|     5|  3|  1|15848|15848|    0|187.912|    0|   0| 0.0|  0.0|    0|\n",
      "|  6|      92| 14|   0.0|     0|  4|  4.0|               16.4|2025-07-06 00:00:00|   0|0.009169859|0.244768815|0.815668491|0.998169236|         250|                   0.0|  4.0|    11.32|11.32|   22|2026|     5|  2|  1|15848|15848|    0|  62.26|    0|   0| 0.0|  0.0|    0|\n",
      "|  6|      92| 14|   0.0|     0|  4|  4.0|               16.4|2025-07-06 00:00:00|   0|0.009169859|0.244768815|0.815668491|0.998169236|         250|                   0.0|  4.0|    11.32|11.32|   20|2026|     5|  3|  1|15848|15848|    0|187.912|    0|   0| 0.0|  0.0|    0|\n",
      "|  6|      92| 14|   0.0|     0|  4|  4.0|               16.4|2025-07-06 00:00:00|   0|0.009169859|0.244768815|0.815668491|0.998169236|         250|                   0.0|  4.0|    11.32|11.32|   92|2026|     5| 14|  3| 4019| 4075|   34| 854.66|    0|   0| 0.0|  0.0|    0|\n",
      "|  6|      21|  3|   0.0|     0|  4|  4.0|2025-06-03 00:00:00|2025-04-04 00:00:00|   0|0.011526868|0.259114777|0.813731336|0.997569562|         250|          -2514.418346|  4.0|    11.32|11.32|   21|2026|     5|  3|  1|15848|15848|    0|187.912|    0|   0| 0.0|  0.0|    0|\n",
      "|  6|      21|  3|   0.0|     0|  4|  4.0|2025-06-03 00:00:00|2025-04-04 00:00:00|   0|0.011526868|0.259114777|0.813731336|0.997569562|         250|          -2514.418346|  4.0|    11.32|11.32|   22|2026|     5|  2|  1|15848|15848|    0|  62.26|    0|   0| 0.0|  0.0|    0|\n",
      "|  6|      21|  3|   0.0|     0|  4|  4.0|2025-06-03 00:00:00|2025-04-04 00:00:00|   0|0.011526868|0.259114777|0.813731336|0.997569562|         250|          -2514.418346|  4.0|    11.32|11.32|   20|2026|     5|  3|  1|15848|15848|    0|187.912|    0|   0| 0.0|  0.0|    0|\n",
      "|  6|      21|  3|   0.0|     0|  4|  4.0|2025-06-03 00:00:00|2025-04-04 00:00:00|   0|0.011526868|0.259114777|0.813731336|0.997569562|         250|          -2514.418346|  4.0|    11.32|11.32|   92|2026|     5| 14|  3| 4019| 4075|   34| 854.66|    0|   0| 0.0|  0.0|    0|\n",
      "|  6|      20|  3|   0.0|     0|  4|  4.0|2025-06-03 00:00:00|2025-04-04 00:00:00|   0|0.011526868|0.259114777|0.813731336|0.997569562|         250|          -2514.418346|  4.0|    11.32|11.32|   21|2026|     5|  3|  1|15848|15848|    0|187.912|    0|   0| 0.0|  0.0|    0|\n",
      "|  6|      20|  3|   0.0|     0|  4|  4.0|2025-06-03 00:00:00|2025-04-04 00:00:00|   0|0.011526868|0.259114777|0.813731336|0.997569562|         250|          -2514.418346|  4.0|    11.32|11.32|   22|2026|     5|  2|  1|15848|15848|    0|  62.26|    0|   0| 0.0|  0.0|    0|\n",
      "|  6|      20|  3|   0.0|     0|  4|  4.0|2025-06-03 00:00:00|2025-04-04 00:00:00|   0|0.011526868|0.259114777|0.813731336|0.997569562|         250|          -2514.418346|  4.0|    11.32|11.32|   20|2026|     5|  3|  1|15848|15848|    0|187.912|    0|   0| 0.0|  0.0|    0|\n",
      "|  6|      20|  3|   0.0|     0|  4|  4.0|2025-06-03 00:00:00|2025-04-04 00:00:00|   0|0.011526868|0.259114777|0.813731336|0.997569562|         250|          -2514.418346|  4.0|    11.32|11.32|   92|2026|     5| 14|  3| 4019| 4075|   34| 854.66|    0|   0| 0.0|  0.0|    0|\n",
      "|  6|      22|  2|   0.0|     0|  4|  4.0|2025-04-04 00:00:00|2025-02-02 00:00:00|   0|0.008774333|0.269494081| 0.81239046|0.998078997|         250|                   0.0|  4.0|    11.32|11.32|   21|2026|     5|  3|  1|15848|15848|    0|187.912|    0|   0| 0.0|  0.0|    0|\n",
      "|  6|      22|  2|   0.0|     0|  4|  4.0|2025-04-04 00:00:00|2025-02-02 00:00:00|   0|0.008774333|0.269494081| 0.81239046|0.998078997|         250|                   0.0|  4.0|    11.32|11.32|   22|2026|     5|  2|  1|15848|15848|    0|  62.26|    0|   0| 0.0|  0.0|    0|\n",
      "|  6|      22|  2|   0.0|     0|  4|  4.0|2025-04-04 00:00:00|2025-02-02 00:00:00|   0|0.008774333|0.269494081| 0.81239046|0.998078997|         250|                   0.0|  4.0|    11.32|11.32|   20|2026|     5|  3|  1|15848|15848|    0|187.912|    0|   0| 0.0|  0.0|    0|\n",
      "|  6|      22|  2|   0.0|     0|  4|  4.0|2025-04-04 00:00:00|2025-02-02 00:00:00|   0|0.008774333|0.269494081| 0.81239046|0.998078997|         250|                   0.0|  4.0|    11.32|11.32|   92|2026|     5| 14|  3| 4019| 4075|   34| 854.66|    0|   0| 0.0|  0.0|    0|\n",
      "|  6|      92| 14|   0.0|     0|  4|  4.0|               16.4|2025-07-06 00:00:00|   0|0.006487555|0.244768815|0.815668491|0.998704758|         250|                   0.0|  4.0|    11.32|11.32|   21|2026|     5|  3|  1|15848|15848|    0|187.912|    0|   0| 0.0|  0.0|    0|\n",
      "|  6|      92| 14|   0.0|     0|  4|  4.0|               16.4|2025-07-06 00:00:00|   0|0.006487555|0.244768815|0.815668491|0.998704758|         250|                   0.0|  4.0|    11.32|11.32|   22|2026|     5|  2|  1|15848|15848|    0|  62.26|    0|   0| 0.0|  0.0|    0|\n",
      "|  6|      92| 14|   0.0|     0|  4|  4.0|               16.4|2025-07-06 00:00:00|   0|0.006487555|0.244768815|0.815668491|0.998704758|         250|                   0.0|  4.0|    11.32|11.32|   20|2026|     5|  3|  1|15848|15848|    0|187.912|    0|   0| 0.0|  0.0|    0|\n",
      "|  6|      92| 14|   0.0|     0|  4|  4.0|               16.4|2025-07-06 00:00:00|   0|0.006487555|0.244768815|0.815668491|0.998704758|         250|                   0.0|  4.0|    11.32|11.32|   92|2026|     5| 14|  3| 4019| 4075|   34| 854.66|    0|   0| 0.0|  0.0|    0|\n",
      "+---+--------+---+------+------+---+-----+-------------------+-------------------+----+-----------+-----------+-----------+-----------+------------+----------------------+-----+---------+-----+-----+----+------+---+---+-----+-----+-----+-------+-----+----+----+-----+-----+\n",
      "only showing top 20 rows\n",
      "\n"
     ]
    }
   ],
   "source": [
    "from_parquet.show()"
   ]
  },
  {
   "cell_type": "code",
   "execution_count": 28,
   "id": "5a31a9f4",
   "metadata": {},
   "outputs": [],
   "source": [
    "a = from_parquet"
   ]
  },
  {
   "cell_type": "code",
   "execution_count": 29,
   "id": "4e488d09",
   "metadata": {},
   "outputs": [],
   "source": [
    "a = a.filter(((a.t_y == 10) | (a.t_y == 11) | (a.t_y == 12)) & (a.VHarv != 0.0) & (a.VHarv == a.v_harv))"
   ]
  },
  {
   "cell_type": "code",
   "execution_count": 30,
   "id": "a0368d62",
   "metadata": {},
   "outputs": [
    {
     "name": "stderr",
     "output_type": "stream",
     "text": [
      "                                                                                \r"
     ]
    },
    {
     "data": {
      "text/plain": [
       "193737"
      ]
     },
     "execution_count": 30,
     "metadata": {},
     "output_type": "execute_result"
    }
   ],
   "source": [
    "a.count()"
   ]
  },
  {
   "cell_type": "code",
   "execution_count": 31,
   "id": "bd8a0d11",
   "metadata": {},
   "outputs": [
    {
     "name": "stdout",
     "output_type": "stream",
     "text": [
      "+---+--------+---+------+------+---+-----+------+-------------------+----+------------------+-----------------+------------------+------------------+------------+----------------------+-----+---------+----+-----+----+------+---+---+----+----+-----+-------+------+------+----+-----+------+\n",
      "| UG|id_presc|t_x|v_thin|v_harv| si|fmm_x|avgdbh|                  g|resp|             pburn|              psd|                pd|                 r|costshrremha|costswithshrubsremoval|fmm_y|areafmm_y|Area|Presc|Year|Ttotal|t_y|Rot| Nst|   N|Ndead|      V| Vserr|  Vrol|Vres|Vthin| VHarv|\n",
      "+---+--------+---+------+------+---+-----+------+-------------------+----+------------------+-----------------+------------------+------------------+------------+----------------------+-----+---------+----+-----+----+------+---+---+----+----+-----+-------+------+------+----+-----+------+\n",
      "| 21|      21| 11|   0.0|347.11|  3|  4.0|  13.5|2025-06-06 00:00:00|   0|       0.070208756|      0.246659561|       0.753882086|       0.986944526|         190|                   0.0|  4.0|     6.74|6.74|21504|2026|     5| 11|  3|3073|3114|   27|372.722|347.11|19.546| 0.0|  0.0|347.11|\n",
      "| 21|      21| 11|   0.0|347.11|  3|  4.0|  13.5|2025-06-06 00:00:00|   0|       0.070208756|      0.246659561|       0.753882086|       0.986944526|         190|                   0.0|  4.0|     6.74|6.74|21502|2026|     5| 11|  3|3073|3114|   27|372.722|347.11|19.546| 0.0|  0.0|347.11|\n",
      "| 21|      21| 11|   0.0|347.11|  3|  4.0|  13.5|2025-06-06 00:00:00|   0|       0.070208756|      0.246659561|       0.753882086|       0.986944526|         190|                   0.0|  4.0|     6.74|6.74|21500|2026|     5| 11|  3|3073|3114|   27|372.722|347.11|19.546| 0.0|  0.0|347.11|\n",
      "| 21|      21| 11|   0.0|347.11|  3|  4.0|  13.5|2025-06-06 00:00:00|   0|       0.070208756|      0.246659561|       0.753882086|       0.986944526|         190|                   0.0|  4.0|     6.74|6.74|21501|2026|     5| 11|  3|3073|3114|   27|372.722|347.11|19.546| 0.0|  0.0|347.11|\n",
      "| 21|      21| 11|   0.0|347.11|  3|  4.0|  13.5|2025-06-06 00:00:00|   0|       0.070208756|      0.246659561|       0.753882086|       0.986944526|         190|                   0.0|  4.0|     6.74|6.74|21503|2026|     5| 11|  3|3073|3114|   27|372.722|347.11|19.546| 0.0|  0.0|347.11|\n",
      "| 21|      21| 11|   0.0|347.11|  3|  4.0|  13.5|2025-06-06 00:00:00|   0|       0.070208756|      0.246659561|       0.753882086|       0.986944526|         190|                   0.0|  4.0|     6.74|6.74|21600|2026|     5| 11|  3|3073|3114|   27|372.722|347.11|19.546| 0.0|  0.0|347.11|\n",
      "| 21|      21| 11|   0.0|347.11|  3|  4.0|  13.5|2025-06-06 00:00:00|   0|       0.070208756|      0.246659561|       0.753882086|       0.986944526|         190|                   0.0|  4.0|     6.74|6.74|21604|2026|     5| 11|  3|3073|3114|   27|372.722|347.11|19.546| 0.0|  0.0|347.11|\n",
      "| 21|      21| 11|   0.0|347.11|  3|  4.0|  13.5|2025-06-06 00:00:00|   0|       0.070208756|      0.246659561|       0.753882086|       0.986944526|         190|                   0.0|  4.0|     6.74|6.74|21603|2026|     5| 11|  3|3073|3114|   27|372.722|347.11|19.546| 0.0|  0.0|347.11|\n",
      "| 21|      21| 11|   0.0|347.11|  3|  4.0|  13.5|2025-06-06 00:00:00|   0|       0.070208756|      0.246659561|       0.753882086|       0.986944526|         190|                   0.0|  4.0|     6.74|6.74|21602|2026|     5| 11|  3|3073|3114|   27|372.722|347.11|19.546| 0.0|  0.0|347.11|\n",
      "| 21|      21| 11|   0.0|347.11|  3|  4.0|  13.5|2025-06-06 00:00:00|   0|       0.070208756|      0.246659561|       0.753882086|       0.986944526|         190|                   0.0|  4.0|     6.74|6.74|21601|2026|     5| 11|  3|3073|3114|   27|372.722|347.11|19.546| 0.0|  0.0|347.11|\n",
      "| 21|      21| 11|   0.0|347.11|  3|  4.0|  13.5|2025-06-06 00:00:00|   0|       0.070208756|      0.246659561|       0.753882086|       0.986944526|         190|                   0.0|  4.0|     6.74|6.74|   21|2026|     5| 11|  3|3073|3114|   27|372.722|347.11|19.546| 0.0|  0.0|347.11|\n",
      "| 21|      21| 11|   0.0|347.11|  3|  4.0|  13.5|2025-06-06 00:00:00|   0|       0.070208756|      0.246659561|       0.753882086|       0.986944526|         190|                   0.0|  4.0|     6.74|6.74|21308|2026|     5| 11|  3|3073|3114|   27|372.722|347.11|19.546| 0.0|  0.0|347.11|\n",
      "| 21|      21| 11|   0.0|347.11|  3|  4.0|  13.5|2025-06-06 00:00:00|   0|       0.070208756|      0.246659561|       0.753882086|       0.986944526|         190|                   0.0|  4.0|     6.74|6.74|21311|2026|     5| 11|  3|3073|3114|   27|372.722|347.11|19.546| 0.0|  0.0|347.11|\n",
      "| 21|      21| 11|   0.0|347.11|  3|  4.0|  13.5|2025-06-06 00:00:00|   0|       0.070208756|      0.246659561|       0.753882086|       0.986944526|         190|                   0.0|  4.0|     6.74|6.74|21310|2026|     5| 11|  3|3073|3114|   27|372.722|347.11|19.546| 0.0|  0.0|347.11|\n",
      "| 21|      21| 11|   0.0|347.11|  3|  4.0|  13.5|2025-06-06 00:00:00|   0|       0.070208756|      0.246659561|       0.753882086|       0.986944526|         190|                   0.0|  4.0|     6.74|6.74|21309|2026|     5| 11|  3|3073|3114|   27|372.722|347.11|19.546| 0.0|  0.0|347.11|\n",
      "| 21|   21500| 11|   0.0|347.11|  3|  4.0|  13.5|2025-06-06 00:00:00|   0|0.0027065530783618|0.246659560507218|0.7538815424177506|0.9994967107985796|         190|                   0.0|  4.0|     6.74|6.74|21504|2026|     5| 11|  3|3073|3114|   27|372.722|347.11|19.546| 0.0|  0.0|347.11|\n",
      "| 21|   21500| 11|   0.0|347.11|  3|  4.0|  13.5|2025-06-06 00:00:00|   0|0.0027065530783618|0.246659560507218|0.7538815424177506|0.9994967107985796|         190|                   0.0|  4.0|     6.74|6.74|21502|2026|     5| 11|  3|3073|3114|   27|372.722|347.11|19.546| 0.0|  0.0|347.11|\n",
      "| 21|   21500| 11|   0.0|347.11|  3|  4.0|  13.5|2025-06-06 00:00:00|   0|0.0027065530783618|0.246659560507218|0.7538815424177506|0.9994967107985796|         190|                   0.0|  4.0|     6.74|6.74|21500|2026|     5| 11|  3|3073|3114|   27|372.722|347.11|19.546| 0.0|  0.0|347.11|\n",
      "| 21|   21500| 11|   0.0|347.11|  3|  4.0|  13.5|2025-06-06 00:00:00|   0|0.0027065530783618|0.246659560507218|0.7538815424177506|0.9994967107985796|         190|                   0.0|  4.0|     6.74|6.74|21501|2026|     5| 11|  3|3073|3114|   27|372.722|347.11|19.546| 0.0|  0.0|347.11|\n",
      "| 21|   21500| 11|   0.0|347.11|  3|  4.0|  13.5|2025-06-06 00:00:00|   0|0.0027065530783618|0.246659560507218|0.7538815424177506|0.9994967107985796|         190|                   0.0|  4.0|     6.74|6.74|21503|2026|     5| 11|  3|3073|3114|   27|372.722|347.11|19.546| 0.0|  0.0|347.11|\n",
      "+---+--------+---+------+------+---+-----+------+-------------------+----+------------------+-----------------+------------------+------------------+------------+----------------------+-----+---------+----+-----+----+------+---+---+----+----+-----+-------+------+------+----+-----+------+\n",
      "only showing top 20 rows\n",
      "\n"
     ]
    }
   ],
   "source": [
    "a.show()"
   ]
  },
  {
   "cell_type": "code",
   "execution_count": 32,
   "id": "d96a0bd6",
   "metadata": {},
   "outputs": [
    {
     "name": "stderr",
     "output_type": "stream",
     "text": [
      "                                                                                \r"
     ]
    }
   ],
   "source": [
    "a = a.toPandas()"
   ]
  },
  {
   "cell_type": "code",
   "execution_count": 33,
   "id": "ec6e6f6d",
   "metadata": {},
   "outputs": [],
   "source": [
    "a.UG = a.UG.astype(int)"
   ]
  },
  {
   "cell_type": "code",
   "execution_count": 35,
   "id": "efb21ded",
   "metadata": {},
   "outputs": [],
   "source": [
    "vds = gpd.read_file('./shape/shape/ValedoSousa_2024_withcentroids.shp')"
   ]
  },
  {
   "cell_type": "code",
   "execution_count": 36,
   "id": "32c69bef",
   "metadata": {},
   "outputs": [],
   "source": [
    "vds.rename(columns={'ID_GENERAL': 'UG'}, inplace=True)"
   ]
  },
  {
   "cell_type": "code",
   "execution_count": 38,
   "id": "eda854d5",
   "metadata": {},
   "outputs": [],
   "source": [
    "b2_worst = pd.merge(b2_worst, vds, on='UG', how='inner')"
   ]
  },
  {
   "cell_type": "code",
   "execution_count": 39,
   "id": "7f402dfb",
   "metadata": {},
   "outputs": [],
   "source": [
    "b2_worst = gpd.GeoDataFrame(b2_worst)"
   ]
  },
  {
   "cell_type": "code",
   "execution_count": 51,
   "id": "b4b6507e",
   "metadata": {},
   "outputs": [
    {
     "name": "stderr",
     "output_type": "stream",
     "text": [
      "/tmp/ipykernel_177700/2270938214.py:1: UserWarning: Column names longer than 10 characters will be truncated when saved to ESRI Shapefile.\n",
      "  b2_worst.to_file('/mnt/c/Users/gergely.soptei.FORESTWISE/Documents/b2_worst.shp')\n",
      "/home/gergely_soptei/sedona_env/lib/python3.10/site-packages/pyogrio/raw.py:723: RuntimeWarning: Normalized/laundered field name: 'costshrremha' to 'costshrrem'\n",
      "  ogr_write(\n",
      "/home/gergely_soptei/sedona_env/lib/python3.10/site-packages/pyogrio/raw.py:723: RuntimeWarning: Normalized/laundered field name: 'costswithshrubsremoval' to 'costswiths'\n",
      "  ogr_write(\n"
     ]
    }
   ],
   "source": [
    "b2_worst.to_file('/mnt/c/Users/gergely.soptei.FORESTWISE/Documents/b2_worst.shp')"
   ]
  },
  {
   "cell_type": "code",
   "execution_count": 40,
   "id": "154c8c52",
   "metadata": {},
   "outputs": [],
   "source": [
    "b2_best = pd.merge(b2_best,vds, on='UG', how='inner')"
   ]
  },
  {
   "cell_type": "code",
   "execution_count": 41,
   "id": "ce984509",
   "metadata": {},
   "outputs": [],
   "source": [
    "b2_best = gpd.GeoDataFrame(b2_best)"
   ]
  },
  {
   "cell_type": "code",
   "execution_count": 90,
   "id": "8d2ab832",
   "metadata": {},
   "outputs": [
    {
     "name": "stderr",
     "output_type": "stream",
     "text": [
      "/tmp/ipykernel_2304/2363018568.py:1: UserWarning: Column names longer than 10 characters will be truncated when saved to ESRI Shapefile.\n",
      "  b2_best.to_file('/mnt/c/Users/gergely.soptei.FORESTWISE/Documents/b2_best.shp')\n",
      "/home/gergely_soptei/sedona_env/lib/python3.10/site-packages/pyogrio/raw.py:723: RuntimeWarning: Normalized/laundered field name: 'costshrremha' to 'costshrrem'\n",
      "  ogr_write(\n",
      "/home/gergely_soptei/sedona_env/lib/python3.10/site-packages/pyogrio/raw.py:723: RuntimeWarning: Normalized/laundered field name: 'costswithshrubsremoval' to 'costswiths'\n",
      "  ogr_write(\n"
     ]
    }
   ],
   "source": [
    "b2_best.to_file('/mnt/c/Users/gergely.soptei.FORESTWISE/Documents/b2_best.shp')"
   ]
  },
  {
   "cell_type": "code",
   "execution_count": 42,
   "id": "40aa7429",
   "metadata": {},
   "outputs": [],
   "source": [
    "merged_geo_df = pd.merge(a, vds, on='UG', how='inner')"
   ]
  },
  {
   "cell_type": "code",
   "execution_count": 43,
   "id": "dcdf896b",
   "metadata": {},
   "outputs": [],
   "source": [
    "geo_df = gpd.GeoDataFrame(merged_geo_df)"
   ]
  },
  {
   "cell_type": "code",
   "execution_count": 45,
   "id": "4855d426",
   "metadata": {},
   "outputs": [],
   "source": [
    "a.drop_duplicates(subset='UG', inplace=True)"
   ]
  },
  {
   "cell_type": "code",
   "execution_count": 47,
   "id": "59154fc0",
   "metadata": {},
   "outputs": [],
   "source": [
    "vale = gpd.read_file('ValedoSousa_2024_withcentroids.shp')"
   ]
  },
  {
   "cell_type": "code",
   "execution_count": 48,
   "id": "353c34bc",
   "metadata": {},
   "outputs": [],
   "source": [
    "vale.rename(columns={\"ID_GENERAL\": \"UG\"}, inplace=True)"
   ]
  },
  {
   "cell_type": "code",
   "execution_count": 49,
   "id": "acb13003",
   "metadata": {},
   "outputs": [
    {
     "data": {
      "text/plain": [
       "<Projected CRS: EPSG:3763>\n",
       "Name: ETRS89 / Portugal TM06\n",
       "Axis Info [cartesian]:\n",
       "- X[east]: Easting (metre)\n",
       "- Y[north]: Northing (metre)\n",
       "Area of Use:\n",
       "- name: Portugal - mainland - onshore.\n",
       "- bounds: (-9.56, 36.95, -6.19, 42.16)\n",
       "Coordinate Operation:\n",
       "- name: Portugual TM06\n",
       "- method: Transverse Mercator\n",
       "Datum: European Terrestrial Reference System 1989 ensemble\n",
       "- Ellipsoid: GRS 1980\n",
       "- Prime Meridian: Greenwich"
      ]
     },
     "execution_count": 49,
     "metadata": {},
     "output_type": "execute_result"
    }
   ],
   "source": [
    "vale.crs"
   ]
  },
  {
   "cell_type": "code",
   "execution_count": 63,
   "id": "41a39f0f",
   "metadata": {},
   "outputs": [],
   "source": [
    "locations = vale.merge(a, on='UG', how=\"inner\")"
   ]
  },
  {
   "cell_type": "code",
   "execution_count": 65,
   "id": "e88c30b1",
   "metadata": {},
   "outputs": [],
   "source": [
    "locations = gpd.GeoDataFrame(locations)"
   ]
  },
  {
   "cell_type": "code",
   "execution_count": 21,
   "id": "3b500afc",
   "metadata": {},
   "outputs": [],
   "source": [
    "# locations.to_file(\"a_0910.shp\")"
   ]
  },
  {
   "cell_type": "code",
   "execution_count": 67,
   "id": "fa36d998",
   "metadata": {},
   "outputs": [],
   "source": [
    "locations[\"centroid\"] = locations['geometry'].centroid"
   ]
  },
  {
   "cell_type": "code",
   "execution_count": 69,
   "id": "f7ddc8ae",
   "metadata": {},
   "outputs": [],
   "source": [
    "locations = locations['centroid'].to_crs(4326)"
   ]
  },
  {
   "cell_type": "code",
   "execution_count": 70,
   "id": "aa95fd03",
   "metadata": {},
   "outputs": [],
   "source": [
    "locations = gpd.GeoDataFrame(locations)"
   ]
  },
  {
   "cell_type": "code",
   "execution_count": 72,
   "id": "3da68dfa",
   "metadata": {},
   "outputs": [],
   "source": [
    "locations = [(point.x, point.y) for point in locations['centroid']]"
   ]
  },
  {
   "cell_type": "markdown",
   "id": "2635ffbf",
   "metadata": {},
   "source": [
    "# Open-Source Routing Machine"
   ]
  },
  {
   "cell_type": "code",
   "execution_count": 74,
   "id": "0e218ede",
   "metadata": {},
   "outputs": [],
   "source": [
    "subset = random.sample(locations, 100)"
   ]
  },
  {
   "cell_type": "code",
   "execution_count": 76,
   "id": "4a3e4e46",
   "metadata": {},
   "outputs": [],
   "source": [
    "subset = [ str(j) for i in subset for j in i]"
   ]
  },
  {
   "cell_type": "code",
   "execution_count": 78,
   "id": "7d0dca20",
   "metadata": {},
   "outputs": [],
   "source": [
    "url = f\"http://router.project-osrm.org/table/v1/driving/{';'.join([','.join(x) for x in zip(subset[0::2],subset[1::2])])}?annotations=distance,duration\""
   ]
  },
  {
   "cell_type": "code",
   "execution_count": 79,
   "id": "da96b8dd",
   "metadata": {},
   "outputs": [
    {
     "data": {
      "text/plain": [
       "'http://router.project-osrm.org/table/v1/driving/-8.240739303431356,41.00632496704199;-8.32586535615524,41.11065147657261;-8.276604911895364,40.95820316026571;-8.25907976968054,40.96903509713349;-8.346753026728583,41.143409101465814;-8.28428797114764,41.00590251880919;-8.286175327349726,41.06032544233441;-8.237343014029149,41.00864471049693;-8.312592476795018,40.95529817536023;-8.28403940143011,40.99875790106325;-8.334116800664948,41.14172481248837;-8.2410651219917,41.02210272912646;-8.247029825487667,40.98255381553383;-8.37018713963333,41.113822188882985;-8.340211095463786,41.12115968671534;-8.362642880399068,41.128462474736054;-8.223722398420874,41.007083941232146;-8.392964351425183,41.100699425561956;-8.28551101667646,40.9797746221533;-8.26590062299589,40.9582993196898;-8.334813262292815,41.11844484213817;-8.315369630609938,41.08048525268862;-8.355170647291441,41.07975049778602;-8.273692029537804,41.05525354667106;-8.279301604106442,41.00348592982176;-8.419866839966856,41.10336778044883;-8.365167636037485,41.08853654704496;-8.259371079228178,40.98180884450762;-8.289122667433455,40.96242135447942;-8.37668039405746,41.09185506852931;-8.289446587743575,40.97877662553553;-8.296184083249042,40.987414764876014;-8.321235013080834,41.10036156259417;-8.264508893896615,41.02175739177518;-8.242573948228964,41.00878779490355;-8.388732989118466,41.086952368789674;-8.353033497616488,41.0846404178846;-8.39538937369683,41.03025005838434;-8.24762918518769,40.9908432574885;-8.279070003954535,41.0498347462168;-8.254644051062254,41.04116512547553;-8.36403688749822,41.09402254297945;-8.253943763847955,41.0244860690197;-8.2920903118693,40.991263501844294;-8.328197959435947,41.07595527924384;-8.299376839849451,40.98159173660989;-8.32936993092479,41.09163590808779;-8.34119692356184,41.06998564714773;-8.23681077705046,41.0213534587092;-8.33307471573088,41.125315829732166;-8.33516203812153,41.15175476861559;-8.357842008272094,41.1012360225541;-8.280935171864758,41.01351519200493;-8.427486239683198,41.13711790813723;-8.35692912055448,41.07767375808634;-8.439771637238522,41.08800317690868;-8.298422061071852,40.9899759602385;-8.342882779761874,41.071911532001934;-8.378104658053797,41.088821484125425;-8.396027425247484,41.08317207051017;-8.258846132812687,40.96468178848656;-8.329668750729262,41.110071705232954;-8.423482611811492,41.09110572727602;-8.441960252558154,41.108428748649516;-8.237822036521028,41.01124340996814;-8.333775417313442,41.07813468146712;-8.439025970513018,41.11885971393534;-8.408357251644794,41.09806325092129;-8.247191090529508,41.01033110619727;-8.332307651495626,41.122610628943875;-8.325614829805929,41.072259933584135;-8.27618286323666,40.98060649095236;-8.34600754488468,41.12327165485321;-8.335166187818984,41.08005576485311;-8.375061709208499,41.06995744583211;-8.353033797988418,41.0747916393761;-8.32302400605966,41.09227183442451;-8.297244018151776,40.98846643751518;-8.374645669179557,41.09153359908111;-8.280781627482344,40.99019114349028;-8.347449914607523,41.09384850495303;-8.285887020373094,40.9769756563924;-8.384563829265058,41.08312791773366;-8.25301875130705,40.97424083390965;-8.252991702145644,40.99968710550448;-8.31879262089118,41.13605843465693;-8.23348586097894,40.95861828685332;-8.254235263182302,40.99408922594209;-8.239923958464335,40.96869196808028;-8.32960750691527,41.09821738674862;-8.361510637473248,41.106435575417734;-8.359600417991844,41.07845942171254;-8.256702195376143,41.017211605156625;-8.32859708564205,41.068952084968025;-8.296883184246017,40.96456205402858;-8.304848233138461,40.98021737011757;-8.35599868506777,41.08650140532365;-8.313818718115106,41.08450668749803;-8.32962872859107,41.096583356053834;-8.433504439807868,41.08922872402152?annotations=distance,duration'"
      ]
     },
     "execution_count": 79,
     "metadata": {},
     "output_type": "execute_result"
    }
   ],
   "source": [
    "url"
   ]
  },
  {
   "cell_type": "code",
   "execution_count": 80,
   "id": "d83b05c0",
   "metadata": {},
   "outputs": [
    {
     "name": "stderr",
     "output_type": "stream",
     "text": [
      "  % Total    % Received % Xferd  Average Speed   Time    Time     Time  Current\n",
      "                                 Dload  Upload   Total   Spent    Left  Speed\n",
      "  0     0    0     0    0     0      0      0 --:--:-- --:--:-- --:--:--     0"
     ]
    },
    {
     "name": "stdout",
     "output_type": "stream",
     "text": [
      "Lenght of responses: 1\n",
      "We have reached the end\n"
     ]
    },
    {
     "name": "stderr",
     "output_type": "stream",
     "text": [
      "100  176k  100  176k    0     0   222k      0 --:--:-- --:--:-- --:--:--  222k\n"
     ]
    }
   ],
   "source": [
    "combined_responses = [] \n",
    "try:\n",
    "    curl_command = ['curl', url]\n",
    "    result = subprocess.check_output(curl_command)\n",
    "    # response_json = json.loads(result.decode('utf-8'))\n",
    "    response_json = json.loads(result)\n",
    "    combined_responses.append(response_json)\n",
    "    print(f'Lenght of responses: {len(combined_responses)}')\n",
    "except Exception as e:\n",
    "    print(f'Something went wrong: {e}')        \n",
    "else:\n",
    "    print(\"We have reached the end\")\n",
    "with open(\"combined_0929.json\", \"w\") as file:\n",
    "    json.dump(combined_responses, file, indent=4)"
   ]
  },
  {
   "cell_type": "markdown",
   "id": "394562be",
   "metadata": {},
   "source": [
    "# Optimal Solution"
   ]
  },
  {
   "cell_type": "code",
   "execution_count": 82,
   "id": "6d96e23d",
   "metadata": {},
   "outputs": [],
   "source": [
    "df = pd.read_excel('Solution_IA_2_7_LP_Test_MAXTIMB_26_May_25.xlsx', sheet_name='Sheet2')"
   ]
  },
  {
   "cell_type": "code",
   "execution_count": 83,
   "id": "4e5e61ba",
   "metadata": {},
   "outputs": [
    {
     "data": {
      "text/html": [
       "<div>\n",
       "<style scoped>\n",
       "    .dataframe tbody tr th:only-of-type {\n",
       "        vertical-align: middle;\n",
       "    }\n",
       "\n",
       "    .dataframe tbody tr th {\n",
       "        vertical-align: top;\n",
       "    }\n",
       "\n",
       "    .dataframe thead th {\n",
       "        text-align: right;\n",
       "    }\n",
       "</style>\n",
       "<table border=\"1\" class=\"dataframe\">\n",
       "  <thead>\n",
       "    <tr style=\"text-align: right;\">\n",
       "      <th></th>\n",
       "      <th>name2</th>\n",
       "    </tr>\n",
       "  </thead>\n",
       "  <tbody>\n",
       "    <tr>\n",
       "      <th>0</th>\n",
       "      <td>Presc318_Pa26_Ct_10</td>\n",
       "    </tr>\n",
       "    <tr>\n",
       "      <th>1</th>\n",
       "      <td>Presc308_Pa50_Ct_0</td>\n",
       "    </tr>\n",
       "    <tr>\n",
       "      <th>2</th>\n",
       "      <td>Presc318_Pa176_Ct_10</td>\n",
       "    </tr>\n",
       "    <tr>\n",
       "      <th>3</th>\n",
       "      <td>Presc309_Pa337_Ct_0</td>\n",
       "    </tr>\n",
       "    <tr>\n",
       "      <th>4</th>\n",
       "      <td>Presc310_Pa344_Ct_10</td>\n",
       "    </tr>\n",
       "    <tr>\n",
       "      <th>...</th>\n",
       "      <td>...</td>\n",
       "    </tr>\n",
       "    <tr>\n",
       "      <th>2567</th>\n",
       "      <td>Presc801_Pa3206_Rp_0</td>\n",
       "    </tr>\n",
       "    <tr>\n",
       "      <th>2568</th>\n",
       "      <td>Presc801_Pa3207_Rp_0</td>\n",
       "    </tr>\n",
       "    <tr>\n",
       "      <th>2569</th>\n",
       "      <td>Presc801_Pa3208_Rp_0</td>\n",
       "    </tr>\n",
       "    <tr>\n",
       "      <th>2570</th>\n",
       "      <td>Presc801_Pa3209_Rp_0</td>\n",
       "    </tr>\n",
       "    <tr>\n",
       "      <th>2571</th>\n",
       "      <td>Presc802_Pa3210_Rp_0</td>\n",
       "    </tr>\n",
       "  </tbody>\n",
       "</table>\n",
       "<p>2572 rows × 1 columns</p>\n",
       "</div>"
      ],
      "text/plain": [
       "                     name2\n",
       "0      Presc318_Pa26_Ct_10\n",
       "1       Presc308_Pa50_Ct_0\n",
       "2     Presc318_Pa176_Ct_10\n",
       "3      Presc309_Pa337_Ct_0\n",
       "4     Presc310_Pa344_Ct_10\n",
       "...                    ...\n",
       "2567  Presc801_Pa3206_Rp_0\n",
       "2568  Presc801_Pa3207_Rp_0\n",
       "2569  Presc801_Pa3208_Rp_0\n",
       "2570  Presc801_Pa3209_Rp_0\n",
       "2571  Presc802_Pa3210_Rp_0\n",
       "\n",
       "[2572 rows x 1 columns]"
      ]
     },
     "execution_count": 83,
     "metadata": {},
     "output_type": "execute_result"
    }
   ],
   "source": [
    "df"
   ]
  },
  {
   "cell_type": "code",
   "execution_count": 84,
   "id": "09d9fc1b",
   "metadata": {},
   "outputs": [],
   "source": [
    "prescriptions = [p for p in list(df.name2.dropna()) if 'Presc' in p and 'Ec' in p]"
   ]
  },
  {
   "cell_type": "code",
   "execution_count": 86,
   "id": "76b386d1",
   "metadata": {},
   "outputs": [],
   "source": [
    "split_prescriptions = [p.split('_') for p in prescriptions]"
   ]
  },
  {
   "cell_type": "code",
   "execution_count": 88,
   "id": "be75575e",
   "metadata": {},
   "outputs": [],
   "source": [
    "ugs_with_shrubs = [[int(i[0][5:]),int(i[1][2:]),int(i[3])] for i in split_prescriptions]"
   ]
  },
  {
   "cell_type": "code",
   "execution_count": 90,
   "id": "5034afd8",
   "metadata": {},
   "outputs": [],
   "source": [
    "headers = [\"Presc\", \"UG\", \"Shrub\"]"
   ]
  },
  {
   "cell_type": "code",
   "execution_count": 91,
   "id": "07fbc597",
   "metadata": {},
   "outputs": [],
   "source": [
    "optimal_df = pd.DataFrame(ugs_with_shrubs, columns=headers)"
   ]
  },
  {
   "cell_type": "code",
   "execution_count": 94,
   "id": "6d97a649",
   "metadata": {},
   "outputs": [],
   "source": [
    "import geopandas as gpd"
   ]
  },
  {
   "cell_type": "code",
   "execution_count": 95,
   "id": "d4279f8a",
   "metadata": {},
   "outputs": [],
   "source": [
    "gdf = gpd.read_file('ValedoSousa_2024_withcentroids.shp')"
   ]
  },
  {
   "cell_type": "code",
   "execution_count": 96,
   "id": "b584e821",
   "metadata": {},
   "outputs": [],
   "source": [
    "gdf.rename(columns={\"ID_GENERAL\": \"UG\"}, inplace=True)"
   ]
  },
  {
   "cell_type": "code",
   "execution_count": 99,
   "id": "eda5e82c",
   "metadata": {},
   "outputs": [],
   "source": [
    "optimal_gdf = a.merge(optimal_df, on='UG', how=\"inner\")"
   ]
  },
  {
   "cell_type": "code",
   "execution_count": 100,
   "id": "15a9b2c4",
   "metadata": {},
   "outputs": [],
   "source": [
    "optimal_gdf = optimal_gdf.merge(gdf, on='UG', how='inner')"
   ]
  },
  {
   "cell_type": "code",
   "execution_count": 101,
   "id": "3533b0c8",
   "metadata": {},
   "outputs": [],
   "source": [
    "optimal_gdf = gpd.GeoDataFrame(optimal_gdf)"
   ]
  },
  {
   "cell_type": "code",
   "execution_count": 102,
   "id": "b241d128",
   "metadata": {},
   "outputs": [],
   "source": [
    "optimal_gdf.UG = optimal_gdf.UG.astype(int)"
   ]
  },
  {
   "cell_type": "code",
   "execution_count": 22,
   "id": "05001da5",
   "metadata": {},
   "outputs": [],
   "source": [
    "# optimal_gdf.to_file('/mnt/c/Users/gergely.soptei.FORESTWISE/Documents/a_0923.shp')"
   ]
  },
  {
   "cell_type": "markdown",
   "id": "cb36bd4c",
   "metadata": {},
   "source": [
    "# Google Maps API"
   ]
  },
  {
   "cell_type": "code",
   "execution_count": null,
   "id": "84158a2a",
   "metadata": {},
   "outputs": [],
   "source": [
    "gmaps = googlemaps.Client()"
   ]
  },
  {
   "cell_type": "code",
   "execution_count": 3,
   "id": "fded2a72",
   "metadata": {},
   "outputs": [],
   "source": [
    "cities = [\"Lisboa\", \"Porto\", \"Coimbra\"]"
   ]
  },
  {
   "cell_type": "code",
   "execution_count": 4,
   "id": "959281b1",
   "metadata": {},
   "outputs": [],
   "source": [
    "def get_distance_matrix(locations):\n",
    "    distances = []\n",
    "    for origin in locations:\n",
    "        row = []\n",
    "        for destination in locations:\n",
    "            matrix = gmaps.distance_matrix(origin, destination, mode=\"driving\")\n",
    "            distance = matrix[\"rows\"][0][\"elements\"][0][\"distance\"][\"value\"]\n",
    "            row.append(distance)\n",
    "        distances.append(row)\n",
    "    return pd.DataFrame(distances,index=locations, columns=locations)"
   ]
  },
  {
   "cell_type": "code",
   "execution_count": 7,
   "id": "d0f1c357",
   "metadata": {},
   "outputs": [],
   "source": [
    "distance_matrix = get_distance_matrix(cities)"
   ]
  },
  {
   "cell_type": "code",
   "execution_count": 8,
   "id": "efbb7d98",
   "metadata": {},
   "outputs": [
    {
     "data": {
      "text/html": [
       "<div>\n",
       "<style scoped>\n",
       "    .dataframe tbody tr th:only-of-type {\n",
       "        vertical-align: middle;\n",
       "    }\n",
       "\n",
       "    .dataframe tbody tr th {\n",
       "        vertical-align: top;\n",
       "    }\n",
       "\n",
       "    .dataframe thead th {\n",
       "        text-align: right;\n",
       "    }\n",
       "</style>\n",
       "<table border=\"1\" class=\"dataframe\">\n",
       "  <thead>\n",
       "    <tr style=\"text-align: right;\">\n",
       "      <th></th>\n",
       "      <th>Lisboa</th>\n",
       "      <th>Porto</th>\n",
       "      <th>Coimbra</th>\n",
       "    </tr>\n",
       "  </thead>\n",
       "  <tbody>\n",
       "    <tr>\n",
       "      <th>Lisboa</th>\n",
       "      <td>0</td>\n",
       "      <td>312147</td>\n",
       "      <td>202685</td>\n",
       "    </tr>\n",
       "    <tr>\n",
       "      <th>Porto</th>\n",
       "      <td>313103</td>\n",
       "      <td>0</td>\n",
       "      <td>123723</td>\n",
       "    </tr>\n",
       "    <tr>\n",
       "      <th>Coimbra</th>\n",
       "      <td>205955</td>\n",
       "      <td>121574</td>\n",
       "      <td>0</td>\n",
       "    </tr>\n",
       "  </tbody>\n",
       "</table>\n",
       "</div>"
      ],
      "text/plain": [
       "         Lisboa   Porto  Coimbra\n",
       "Lisboa        0  312147   202685\n",
       "Porto    313103       0   123723\n",
       "Coimbra  205955  121574        0"
      ]
     },
     "execution_count": 8,
     "metadata": {},
     "output_type": "execute_result"
    }
   ],
   "source": [
    "distance_matrix"
   ]
  },
  {
   "cell_type": "markdown",
   "id": "75c76970",
   "metadata": {},
   "source": [
    "# Sedona"
   ]
  },
  {
   "cell_type": "code",
   "execution_count": null,
   "id": "4dea9f2b",
   "metadata": {},
   "outputs": [
    {
     "name": "stderr",
     "output_type": "stream",
     "text": [
      "/home/gergely_soptei/sedona_env/lib/python3.10/site-packages/pyspark/sql/pandas/conversion.py:428: UserWarning: createDataFrame attempted Arrow optimization because 'spark.sql.execution.arrow.pyspark.enabled' is set to true; however, failed by the reason below:\n",
      "  Did not pass numpy.dtype object\n",
      "Attempting non-optimization as 'spark.sql.execution.arrow.pyspark.fallback.enabled' is set to true.\n",
      "  warn(msg)\n"
     ]
    }
   ],
   "source": [
    "vale = sedona.createDataFrame(vale)"
   ]
  },
  {
   "cell_type": "code",
   "execution_count": null,
   "id": "8e7fb7fc",
   "metadata": {},
   "outputs": [
    {
     "name": "stdout",
     "output_type": "stream",
     "text": [
      "+----------+-------------+-------------+-------------+--------------+-------------+--------------------+\n",
      "|ID_GENERAL|   Shape_Leng|   Shape_Area|      Area_ha|            Xx|           YY|            geometry|\n",
      "+----------+-------------+-------------+-------------+--------------+-------------+--------------------+\n",
      "|         1|756.496135708| 29852.230502| 2.9852230502|-17250.4009257|165334.537418|POLYGON ((-17257....|\n",
      "|         2|3807.87921802|284793.301126|28.4793301126|-14164.1658327|163023.796556|POLYGON ((-13834....|\n",
      "|         3|3473.76718094|65089.7120123|6.50897120123|-7647.27088631|152530.779793|POLYGON ((-7537.1...|\n",
      "|         4|868.157366989|23482.3507736|2.34823507736|-7366.82161511|153113.845834|POLYGON ((-7261.8...|\n",
      "|         5|965.498555625|27698.7367216|2.76987367216|-7386.68713871| 152330.73611|POLYGON ((-7261.8...|\n",
      "|         6|1705.29120949|113222.389708|11.3222389708|-8046.46680077|152606.814289|POLYGON ((-8001.6...|\n",
      "|         7| 2141.1894357|136237.851887|13.6237851887|-7864.33057895|152336.202655|POLYGON ((-7681.7...|\n",
      "|         8|4362.70553467|234254.038173|23.4254038173|-7600.00859245|152867.879869|POLYGON ((-7251.8...|\n",
      "|         9|1497.29848088|46415.5545145|4.64155545145|-8011.29753291| 153190.06408|POLYGON ((-7821.6...|\n",
      "|        10|2084.87708306|121897.554388|12.1897554388|-7934.21054219|153022.524544|POLYGON ((-7795.9...|\n",
      "|        11|990.654230535|32923.3874293|3.29233874293|-7686.25416377|153197.060479|POLYGON ((-7602.7...|\n",
      "|        12|862.181105457| 32870.702778| 3.2870702778| -8075.4276325|152335.348374|POLYGON ((-8095.8...|\n",
      "|        13|1950.73455014|107814.736964|10.7814736964|-7757.97918247|151801.529302|POLYGON ((-7466.0...|\n",
      "|        14| 3715.8323887|262379.063478|26.2379063478|-7535.85120193| 152244.63492|POLYGON ((-7241.8...|\n",
      "|        15|2867.86565669| 115267.33161| 11.526733161|-8012.69202459|150147.541308|POLYGON ((-8145.1...|\n",
      "|        16|1457.89660448|40119.2943096|4.01192943096| -7826.4735629|150943.773333|POLYGON ((-7574.7...|\n",
      "|        17|1288.68195101|55825.5573789|5.58255573789|-7748.38478746|151265.705953|POLYGON ((-7601.7...|\n",
      "|        18|2205.84856988|133809.552177|13.3809552177|-7668.40006048|151105.393374|POLYGON ((-7393.7...|\n",
      "|        19|1249.58732709|66596.0784679|6.65960784679|-8341.55561073|148294.382912|POLYGON ((-8169.7...|\n",
      "|        20|951.529892552|41869.8903764|4.18698903764|-8125.24608312| 148741.68624|POLYGON ((-7993.2...|\n",
      "+----------+-------------+-------------+-------------+--------------+-------------+--------------------+\n",
      "only showing top 20 rows\n",
      "\n"
     ]
    }
   ],
   "source": [
    "vale.show()"
   ]
  },
  {
   "cell_type": "code",
   "execution_count": null,
   "id": "0eed1572",
   "metadata": {},
   "outputs": [
    {
     "name": "stderr",
     "output_type": "stream",
     "text": [
      "25/07/31 11:00:25 WARN TaskSetManager: Stage 27 contains a task of very large size (1037 KiB). The maximum recommended task size is 1000 KiB.\n",
      "                                                                                \r"
     ]
    }
   ],
   "source": [
    "unique_id = [i['ID_GENERAL'] for i in vale.select('ID_GENERAL').distinct().collect()]"
   ]
  }
 ],
 "metadata": {
  "kernelspec": {
   "display_name": "Python 3 (ipykernel)",
   "language": "python",
   "name": "python3"
  },
  "language_info": {
   "codemirror_mode": {
    "name": "ipython",
    "version": 3
   },
   "file_extension": ".py",
   "mimetype": "text/x-python",
   "name": "python",
   "nbconvert_exporter": "python",
   "pygments_lexer": "ipython3",
   "version": "3.10.12"
  }
 },
 "nbformat": 4,
 "nbformat_minor": 5
}
